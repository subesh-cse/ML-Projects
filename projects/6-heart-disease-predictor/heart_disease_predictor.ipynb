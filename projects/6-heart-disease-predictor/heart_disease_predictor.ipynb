{
  "nbformat": 4,
  "nbformat_minor": 0,
  "metadata": {
    "colab": {
      "provenance": []
    },
    "kernelspec": {
      "name": "python3",
      "display_name": "Python 3"
    },
    "language_info": {
      "name": "python"
    }
  },
  "cells": [
    {
      "cell_type": "code",
      "execution_count": 3,
      "metadata": {
        "colab": {
          "base_uri": "https://localhost:8080/",
          "height": 1000
        },
        "id": "DTSnoUOJbBLX",
        "outputId": "f54b46dc-4d8a-4d7c-b25d-23438684efec"
      },
      "outputs": [
        {
          "output_type": "stream",
          "name": "stdout",
          "text": [
            "✅ Dataset loaded successfully\n",
            "\n",
            "First 5 rows:\n",
            "    age  sex  pain type   BP  cholestrol  fbs  resting ecg  max heart rate  \\\n",
            "0   70    1          4  130         322    0            2             109   \n",
            "1   67    0          3  115         564    0            2             160   \n",
            "2   57    1          2  124         261    0            0             141   \n",
            "3   64    1          4  128         263    0            0             105   \n",
            "4   74    0          2  120         269    0            2             121   \n",
            "\n",
            "   exercise angina  ST depression  ST slope  flouroscopy coloured  thal  \\\n",
            "0                0            2.4         2                     3     3   \n",
            "1                0            1.6         2                     0     7   \n",
            "2                0            0.3         1                     0     7   \n",
            "3                1            0.2         2                     1     7   \n",
            "4                1            0.2         1                     1     3   \n",
            "\n",
            "   target  \n",
            "0       2  \n",
            "1       1  \n",
            "2       2  \n",
            "3       1  \n",
            "4       1  \n",
            "\n",
            "Dataset shape: (270, 14)\n",
            "\n",
            "Missing values per column:\n",
            " age                     0\n",
            "sex                     0\n",
            "pain type               0\n",
            "BP                      0\n",
            "cholestrol              0\n",
            "fbs                     0\n",
            "resting ecg             0\n",
            "max heart rate          0\n",
            "exercise angina         0\n",
            "ST depression           0\n",
            "ST slope                0\n",
            "flouroscopy coloured    0\n",
            "thal                    0\n",
            "target                  0\n",
            "dtype: int64\n",
            "\n",
            "🎯 Accuracy: 0.8518518518518519\n",
            "\n",
            "📊 Classification Report:\n",
            "               precision    recall  f1-score   support\n",
            "\n",
            "           1       0.92      0.80      0.86        30\n",
            "           2       0.79      0.92      0.85        24\n",
            "\n",
            "    accuracy                           0.85        54\n",
            "   macro avg       0.85      0.86      0.85        54\n",
            "weighted avg       0.86      0.85      0.85        54\n",
            "\n"
          ]
        },
        {
          "output_type": "display_data",
          "data": {
            "text/plain": [
              "<Figure size 600x400 with 2 Axes>"
            ],
            "image/png": "[encoded data removed]"
          },
          "metadata": {}
        }
      ],
      "source": [
        "# 🧠 Heart Disease Prediction Using Machine Learning\n",
        "\n",
        "import pandas as pd\n",
        "import numpy as np\n",
        "import matplotlib.pyplot as plt\n",
        "import seaborn as sns\n",
        "\n",
        "from sklearn.model_selection import train_test_split\n",
        "from sklearn.preprocessing import StandardScaler\n",
        "from sklearn.linear_model import LogisticRegression\n",
        "from sklearn.metrics import accuracy_score, classification_report, confusion_matrix\n",
        "\n",
        "# 1. Load the dataset from a verified raw gist\n",
        "url = \"https://gist.githubusercontent.com/vivek2606/88ec0800798ee7bf8540193acde83553/raw/heart.csv\"\n",
        "df = pd.read_csv(url)\n",
        "print(\"✅ Dataset loaded successfully\")\n",
        "\n",
        "# 2. Rename target column (if needed)\n",
        "if 'heart disease' in df.columns:\n",
        "    df = df.rename(columns={'heart disease': 'target'})\n",
        "\n",
        "# 3. Quick glance\n",
        "print(\"\\nFirst 5 rows:\\n\", df.head())\n",
        "print(\"\\nDataset shape:\", df.shape)\n",
        "print(\"\\nMissing values per column:\\n\", df.isnull().sum())\n",
        "\n",
        "# 4. Separate features and target\n",
        "X = df.drop('target', axis=1)\n",
        "y = df['target']\n",
        "\n",
        "# 5. Train‑test split\n",
        "X_train, X_test, y_train, y_test = train_test_split(\n",
        "    X, y, test_size=0.2, random_state=42, stratify=y\n",
        ")\n",
        "\n",
        "# 6. Feature scaling\n",
        "scaler = StandardScaler()\n",
        "X_train_scaled = scaler.fit_transform(X_train)\n",
        "X_test_scaled = scaler.transform(X_test)\n",
        "\n",
        "# 7. Train logistic regression model\n",
        "model = LogisticRegression(max_iter=1000)\n",
        "model.fit(X_train_scaled, y_train)\n",
        "\n",
        "# 8. Evaluate model\n",
        "y_pred = model.predict(X_test_scaled)\n",
        "print(\"\\n🎯 Accuracy:\", accuracy_score(y_test, y_pred))\n",
        "print(\"\\n📊 Classification Report:\\n\", classification_report(y_test, y_pred))\n",
        "\n",
        "# 9. Confusion Matrix visualization\n",
        "cm = confusion_matrix(y_test, y_pred)\n",
        "plt.figure(figsize=(6,4))\n",
        "sns.heatmap(cm, annot=True, fmt='d', cmap='coolwarm')\n",
        "plt.title('Confusion Matrix – Heart Disease Prediction')\n",
        "plt.xlabel('Predicted')\n",
        "plt.ylabel('Actual')\n",
        "plt.show()\n"
      ]
    }
  ]
}